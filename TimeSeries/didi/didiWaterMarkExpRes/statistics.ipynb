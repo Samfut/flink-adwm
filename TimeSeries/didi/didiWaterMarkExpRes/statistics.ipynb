{
 "cells": [
  {
   "cell_type": "code",
   "execution_count": 1,
   "metadata": {},
   "outputs": [],
   "source": [
    "%matplotlib inline\n",
    "%config InlineBackend.figure_format = 'svg'"
   ]
  },
  {
   "cell_type": "code",
   "execution_count": 2,
   "metadata": {},
   "outputs": [
    {
     "data": {
      "text/html": [
       "<style type=\"text/css\">\n",
       "table.dataframe td, table.dataframe th {\n",
       "    border: 1px  black solid !important;\n",
       "    color: black !important;\n",
       "}"
      ],
      "text/plain": [
       "<IPython.core.display.HTML object>"
      ]
     },
     "metadata": {},
     "output_type": "display_data"
    }
   ],
   "source": [
    "%%HTML\n",
    "<style type=\"text/css\">\n",
    "table.dataframe td, table.dataframe th {\n",
    "    border: 1px  black solid !important;\n",
    "    color: black !important;\n",
    "}"
   ]
  },
  {
   "cell_type": "code",
   "execution_count": 3,
   "metadata": {},
   "outputs": [],
   "source": [
    "import pandas as pd\n",
    "import matplotlib.pyplot as plt\n",
    "import numpy as np\n",
    "import seaborn as sns"
   ]
  },
  {
   "cell_type": "code",
   "execution_count": 4,
   "metadata": {},
   "outputs": [],
   "source": [
    "sns.set(style=\"darkgrid\")\n",
    "sns.set_context(rc={\"lines.linewidth\": 2})"
   ]
  },
  {
   "cell_type": "markdown",
   "metadata": {},
   "source": [
    "## 不同窗口不同延迟时间下的对比"
   ]
  },
  {
   "cell_type": "code",
   "execution_count": 5,
   "metadata": {},
   "outputs": [],
   "source": [
    "def get_drop_latency(wm, latency, threshold):\n",
    "    \"\"\"\n",
    "        params: wm 水印和事件的映射关系 哪一个事件时间产生了水印\n",
    "                latency: 窗口被哪个水印触发\n",
    "        return dict {\n",
    "            \"drop\": 真实被丢弃的概率(一般不用),\n",
    "            \"late\": 迟到率,\n",
    "            \"avg_wait\": 每个窗口的平均等待时间\n",
    "            \"pre_win_wait\": 用来具体记录每个窗口的等待时间\n",
    "        }\n",
    "    \"\"\"\n",
    "    wm = pd.read_csv(wm)\n",
    "    latency = pd.read_csv(latency)\n",
    "    wm.columns = [\"watermark\", \"ts\"]\n",
    "    \n",
    "    # drop1是真正丢的数据\n",
    "    drop1 = wm[-1:].iloc[0]['watermark']/wm[-1:].iloc[0]['ts']\n",
    "    # drop2是默认迟到的数据\n",
    "    drop2 = wm[-2:-1].iloc[0]['watermark']/wm[-2:-1].iloc[0]['ts']\n",
    "#     print(wm[-2:-1], drop2)\n",
    "    latency.columns = [\"watermark\", \"window_end\"]\n",
    "    latency = latency.set_index(\"watermark\")\n",
    "    wm = wm.set_index(\"watermark\")\n",
    "    res = latency.join(wm, how='inner')\n",
    "    res = res.reset_index(drop = True)\n",
    "    \n",
    "    all_wait = 0\n",
    "    pre_win_wait = []\n",
    "    for index, row in res.iterrows():\n",
    "        if row['ts'] - row['window_end'] > threshold+6000:\n",
    "            row['ts']  = row['window_end'] + threshold\n",
    "        pre_win_wait.append(row['ts'] - row['window_end'])\n",
    "        all_wait += row['ts'] - row['window_end']\n",
    "    avg_wait = all_wait/len(res)\n",
    "    \n",
    "    return dict(drop=drop1, late=drop2, avg_wait=avg_wait, pre_win_wait=pre_win_wait)"
   ]
  },
  {
   "cell_type": "code",
   "execution_count": 10,
   "metadata": {},
   "outputs": [],
   "source": [
    "def list_params_diff_latecny(WaterPaths, TimePaths):\n",
    "    index = [0,1000 * 60 * 1,1000 * 60 * 2, 1000 * 60 * 3, 1000 * 60 * 4]\n",
    "    later_rate, avg_win_wait = [], []\n",
    "    for i in range(len(WaterPaths)):\n",
    "        water = WaterPaths[i]\n",
    "        time = TimePaths[i]\n",
    "        res = get_drop_latency(water, time, index[i])\n",
    "        later_rate.append(res['late'])\n",
    "        avg_win_wait.append(res['avg_wait'])\n",
    "    data = {\n",
    "        'later_rate': later_rate,\n",
    "        'avg_win_wait': avg_win_wait\n",
    "    }\n",
    "    df = pd.DataFrame(data, index=index)\n",
    "    return df"
   ]
  },
  {
   "cell_type": "markdown",
   "metadata": {},
   "source": [
    "## 窗口为60s时"
   ]
  },
  {
   "cell_type": "code",
   "execution_count": 22,
   "metadata": {},
   "outputs": [],
   "source": [
    "Paths = [\n",
    "            \"./periodic/20171004P0W60/\",\n",
    "            \"./periodic/20171004P1W60/\",\n",
    "            \"./periodic/20171004P2W60/\",\n",
    "            \"./periodic/20171004P3W60/\",\n",
    "            \"./periodic/20171004P4W60/\",\n",
    "           ]\n",
    "WaterPaths = [path+\"water.csv\" for path in Paths]\n",
    "TimePaths = [path+\"timelatency.csv\" for path in Paths]"
   ]
  },
  {
   "cell_type": "code",
   "execution_count": 67,
   "metadata": {},
   "outputs": [],
   "source": [
    "adwater = './adwater/20171004AW60/water.csv'\n",
    "adwait = './adwater/20171004AW60/timelatency.csv'\n",
    "def get_com_df(adwater, adwait):\n",
    "    com = list_params_diff_latecny(WaterPaths, TimePaths)\n",
    "    a = get_drop_latency(adwater, adwait, 1000 * 60 * 3)\n",
    "    df_a = pd.DataFrame({\"later_rate\":[a['late']],\"avg_win_wait\":[a['avg_wait']]}, index=[\"adwater\"])\n",
    "    com = com.append(df_a)\n",
    "    com.index = [\"0 min\",\"1 min\",\"2 min\",\"3 min\",\"4 min\", \"adwater\"]\n",
    "    return com"
   ]
  },
  {
   "cell_type": "code",
   "execution_count": 72,
   "metadata": {},
   "outputs": [],
   "source": [
    "win_1 = get_com_df(adwater,adwait)"
   ]
  },
  {
   "cell_type": "code",
   "execution_count": 73,
   "metadata": {},
   "outputs": [
    {
     "data": {
      "text/html": [
       "<div>\n",
       "<style scoped>\n",
       "    .dataframe tbody tr th:only-of-type {\n",
       "        vertical-align: middle;\n",
       "    }\n",
       "\n",
       "    .dataframe tbody tr th {\n",
       "        vertical-align: top;\n",
       "    }\n",
       "\n",
       "    .dataframe thead th {\n",
       "        text-align: right;\n",
       "    }\n",
       "</style>\n",
       "<table border=\"1\" class=\"dataframe\">\n",
       "  <thead>\n",
       "    <tr style=\"text-align: right;\">\n",
       "      <th></th>\n",
       "      <th>later_rate</th>\n",
       "      <th>avg_win_wait</th>\n",
       "    </tr>\n",
       "  </thead>\n",
       "  <tbody>\n",
       "    <tr>\n",
       "      <th>0 min</th>\n",
       "      <td>0.866070</td>\n",
       "      <td>352.360044</td>\n",
       "    </tr>\n",
       "    <tr>\n",
       "      <th>1 min</th>\n",
       "      <td>0.732516</td>\n",
       "      <td>60399.283796</td>\n",
       "    </tr>\n",
       "    <tr>\n",
       "      <th>2 min</th>\n",
       "      <td>0.577757</td>\n",
       "      <td>120389.760528</td>\n",
       "    </tr>\n",
       "    <tr>\n",
       "      <th>3 min</th>\n",
       "      <td>0.427050</td>\n",
       "      <td>180393.086817</td>\n",
       "    </tr>\n",
       "    <tr>\n",
       "      <th>4 min</th>\n",
       "      <td>0.305467</td>\n",
       "      <td>240383.878691</td>\n",
       "    </tr>\n",
       "    <tr>\n",
       "      <th>adwater</th>\n",
       "      <td>0.421206</td>\n",
       "      <td>166433.168317</td>\n",
       "    </tr>\n",
       "  </tbody>\n",
       "</table>\n",
       "</div>"
      ],
      "text/plain": [
       "         later_rate   avg_win_wait\n",
       "0 min      0.866070     352.360044\n",
       "1 min      0.732516   60399.283796\n",
       "2 min      0.577757  120389.760528\n",
       "3 min      0.427050  180393.086817\n",
       "4 min      0.305467  240383.878691\n",
       "adwater    0.421206  166433.168317"
      ]
     },
     "execution_count": 73,
     "metadata": {},
     "output_type": "execute_result"
    }
   ],
   "source": [
    "win_1"
   ]
  },
  {
   "cell_type": "markdown",
   "metadata": {},
   "source": [
    "## 窗口为120s时"
   ]
  },
  {
   "cell_type": "code",
   "execution_count": 76,
   "metadata": {},
   "outputs": [],
   "source": [
    "Paths = [\n",
    "            \"./periodic/20171004P0W120/\",\n",
    "            \"./periodic/20171004P1W120/\",\n",
    "            \"./periodic/20171004P2W120/\",\n",
    "            \"./periodic/20171004P3W120/\",\n",
    "            \"./periodic/20171004P4W120/\",\n",
    "           ]\n",
    "WaterPaths = [path+\"water.csv\" for path in Paths]\n",
    "TimePaths = [path+\"timelatency.csv\" for path in Paths]"
   ]
  },
  {
   "cell_type": "code",
   "execution_count": 77,
   "metadata": {},
   "outputs": [],
   "source": [
    "adwater = './adwater/20171004AW120/water.csv'\n",
    "adwait = './adwater/20171004AW120/timelatency.csv'\n",
    "def get_com_df(adwater, adwait):\n",
    "    com = list_params_diff_latecny(WaterPaths, TimePaths)\n",
    "    a = get_drop_latency(adwater, adwait, 1000 * 60 * 3)\n",
    "    df_a = pd.DataFrame({\"later_rate\":[a['late']],\"avg_win_wait\":[a['avg_wait']]}, index=[\"adwater\"])\n",
    "    com = com.append(df_a)\n",
    "    com.index = [\"0 min\",\"1 min\",\"2 min\",\"3 min\",\"4 min\", \"adwater\"]\n",
    "    return com"
   ]
  },
  {
   "cell_type": "code",
   "execution_count": 78,
   "metadata": {},
   "outputs": [],
   "source": [
    "win_2 = get_com_df(adwater,adwait)"
   ]
  },
  {
   "cell_type": "code",
   "execution_count": 80,
   "metadata": {},
   "outputs": [
    {
     "data": {
      "text/html": [
       "<div>\n",
       "<style scoped>\n",
       "    .dataframe tbody tr th:only-of-type {\n",
       "        vertical-align: middle;\n",
       "    }\n",
       "\n",
       "    .dataframe tbody tr th {\n",
       "        vertical-align: top;\n",
       "    }\n",
       "\n",
       "    .dataframe thead th {\n",
       "        text-align: right;\n",
       "    }\n",
       "</style>\n",
       "<table border=\"1\" class=\"dataframe\">\n",
       "  <thead>\n",
       "    <tr style=\"text-align: right;\">\n",
       "      <th></th>\n",
       "      <th>later_rate</th>\n",
       "      <th>avg_win_wait</th>\n",
       "    </tr>\n",
       "  </thead>\n",
       "  <tbody>\n",
       "    <tr>\n",
       "      <th>0 min</th>\n",
       "      <td>0.866070</td>\n",
       "      <td>403.565640</td>\n",
       "    </tr>\n",
       "    <tr>\n",
       "      <th>1 min</th>\n",
       "      <td>0.732516</td>\n",
       "      <td>60388.036810</td>\n",
       "    </tr>\n",
       "    <tr>\n",
       "      <th>2 min</th>\n",
       "      <td>0.577757</td>\n",
       "      <td>120390.317700</td>\n",
       "    </tr>\n",
       "    <tr>\n",
       "      <th>3 min</th>\n",
       "      <td>0.427050</td>\n",
       "      <td>180360.902256</td>\n",
       "    </tr>\n",
       "    <tr>\n",
       "      <th>4 min</th>\n",
       "      <td>0.305467</td>\n",
       "      <td>240395.488722</td>\n",
       "    </tr>\n",
       "    <tr>\n",
       "      <th>adwater</th>\n",
       "      <td>0.425353</td>\n",
       "      <td>163311.349693</td>\n",
       "    </tr>\n",
       "  </tbody>\n",
       "</table>\n",
       "</div>"
      ],
      "text/plain": [
       "         later_rate   avg_win_wait\n",
       "0 min      0.866070     403.565640\n",
       "1 min      0.732516   60388.036810\n",
       "2 min      0.577757  120390.317700\n",
       "3 min      0.427050  180360.902256\n",
       "4 min      0.305467  240395.488722\n",
       "adwater    0.425353  163311.349693"
      ]
     },
     "execution_count": 80,
     "metadata": {},
     "output_type": "execute_result"
    }
   ],
   "source": [
    "win_2"
   ]
  },
  {
   "cell_type": "markdown",
   "metadata": {},
   "source": [
    "## 窗口为180s时"
   ]
  },
  {
   "cell_type": "code",
   "execution_count": 83,
   "metadata": {},
   "outputs": [],
   "source": [
    "Paths = [\n",
    "            \"./periodic/20171004P0W3/\",\n",
    "            \"./periodic/20171004P1W3/\",\n",
    "            \"./periodic/20171004P2W3/\",\n",
    "            \"./periodic/20171004P3W3/\",\n",
    "            \"./periodic/20171004P4W3/\",\n",
    "           ]\n",
    "WaterPaths = [path+\"water.csv\" for path in Paths]\n",
    "TimePaths = [path+\"timelatency.csv\" for path in Paths]\n",
    "adwater = './adwater/20171004AW3/water.csv'\n",
    "adwait = './adwater/20171004AW3/timelatency.csv'"
   ]
  },
  {
   "cell_type": "code",
   "execution_count": 84,
   "metadata": {},
   "outputs": [],
   "source": [
    "def get_com_df(adwater, adwait):\n",
    "    com = list_params_diff_latecny(WaterPaths, TimePaths)\n",
    "    a = get_drop_latency(adwater, adwait, 1000 * 60 * 3)\n",
    "    df_a = pd.DataFrame({\"later_rate\":[a['late']],\"avg_win_wait\":[a['avg_wait']]}, index=[\"adwater\"])\n",
    "    com = com.append(df_a)\n",
    "    com.index = [\"0 min\",\"1 min\",\"2 min\",\"3 min\",\"4 min\", \"adwater\"]\n",
    "    return com"
   ]
  },
  {
   "cell_type": "code",
   "execution_count": 85,
   "metadata": {},
   "outputs": [],
   "source": [
    "win_3 = get_com_df(adwater,adwait)"
   ]
  },
  {
   "cell_type": "code",
   "execution_count": 86,
   "metadata": {},
   "outputs": [
    {
     "data": {
      "text/html": [
       "<div>\n",
       "<style scoped>\n",
       "    .dataframe tbody tr th:only-of-type {\n",
       "        vertical-align: middle;\n",
       "    }\n",
       "\n",
       "    .dataframe tbody tr th {\n",
       "        vertical-align: top;\n",
       "    }\n",
       "\n",
       "    .dataframe thead th {\n",
       "        text-align: right;\n",
       "    }\n",
       "</style>\n",
       "<table border=\"1\" class=\"dataframe\">\n",
       "  <thead>\n",
       "    <tr style=\"text-align: right;\">\n",
       "      <th></th>\n",
       "      <th>later_rate</th>\n",
       "      <th>avg_win_wait</th>\n",
       "    </tr>\n",
       "  </thead>\n",
       "  <tbody>\n",
       "    <tr>\n",
       "      <th>0 min</th>\n",
       "      <td>0.866070</td>\n",
       "      <td>435.955056</td>\n",
       "    </tr>\n",
       "    <tr>\n",
       "      <th>1 min</th>\n",
       "      <td>0.732516</td>\n",
       "      <td>60396.436526</td>\n",
       "    </tr>\n",
       "    <tr>\n",
       "      <th>2 min</th>\n",
       "      <td>0.577757</td>\n",
       "      <td>120320.796460</td>\n",
       "    </tr>\n",
       "    <tr>\n",
       "      <th>3 min</th>\n",
       "      <td>0.427050</td>\n",
       "      <td>180433.628319</td>\n",
       "    </tr>\n",
       "    <tr>\n",
       "      <th>4 min</th>\n",
       "      <td>0.305467</td>\n",
       "      <td>240384.955752</td>\n",
       "    </tr>\n",
       "    <tr>\n",
       "      <th>adwater</th>\n",
       "      <td>0.427521</td>\n",
       "      <td>161443.458980</td>\n",
       "    </tr>\n",
       "  </tbody>\n",
       "</table>\n",
       "</div>"
      ],
      "text/plain": [
       "         later_rate   avg_win_wait\n",
       "0 min      0.866070     435.955056\n",
       "1 min      0.732516   60396.436526\n",
       "2 min      0.577757  120320.796460\n",
       "3 min      0.427050  180433.628319\n",
       "4 min      0.305467  240384.955752\n",
       "adwater    0.427521  161443.458980"
      ]
     },
     "execution_count": 86,
     "metadata": {},
     "output_type": "execute_result"
    }
   ],
   "source": [
    "win_3"
   ]
  },
  {
   "cell_type": "markdown",
   "metadata": {},
   "source": [
    "## 窗口为240s时"
   ]
  },
  {
   "cell_type": "code",
   "execution_count": 87,
   "metadata": {},
   "outputs": [],
   "source": [
    "Paths = [\n",
    "            \"./periodic/20171004P0W4/\",\n",
    "            \"./periodic/20171004P1W4/\",\n",
    "            \"./periodic/20171004P2W4/\",\n",
    "            \"./periodic/20171004P3W4/\",\n",
    "            \"./periodic/20171004P4W4/\",\n",
    "           ]\n",
    "WaterPaths = [path+\"water.csv\" for path in Paths]\n",
    "TimePaths = [path+\"timelatency.csv\" for path in Paths]\n",
    "adwater = './adwater/20171004AW4/water.csv'\n",
    "adwait = './adwater/20171004AW4/timelatency.csv'"
   ]
  },
  {
   "cell_type": "code",
   "execution_count": 88,
   "metadata": {},
   "outputs": [],
   "source": [
    "def get_com_df(adwater, adwait):\n",
    "    com = list_params_diff_latecny(WaterPaths, TimePaths)\n",
    "    a = get_drop_latency(adwater, adwait, 1000 * 60 * 3)\n",
    "    df_a = pd.DataFrame({\"later_rate\":[a['late']],\"avg_win_wait\":[a['avg_wait']]}, index=[\"adwater\"])\n",
    "    com = com.append(df_a)\n",
    "    com.index = [\"0 min\",\"1 min\",\"2 min\",\"3 min\",\"4 min\", \"adwater\"]\n",
    "    return com"
   ]
  },
  {
   "cell_type": "code",
   "execution_count": 89,
   "metadata": {},
   "outputs": [],
   "source": [
    "win_4 = get_com_df(adwater,adwait)"
   ]
  },
  {
   "cell_type": "code",
   "execution_count": 90,
   "metadata": {},
   "outputs": [
    {
     "data": {
      "text/html": [
       "<div>\n",
       "<style scoped>\n",
       "    .dataframe tbody tr th:only-of-type {\n",
       "        vertical-align: middle;\n",
       "    }\n",
       "\n",
       "    .dataframe tbody tr th {\n",
       "        vertical-align: top;\n",
       "    }\n",
       "\n",
       "    .dataframe thead th {\n",
       "        text-align: right;\n",
       "    }\n",
       "</style>\n",
       "<table border=\"1\" class=\"dataframe\">\n",
       "  <thead>\n",
       "    <tr style=\"text-align: right;\">\n",
       "      <th></th>\n",
       "      <th>later_rate</th>\n",
       "      <th>avg_win_wait</th>\n",
       "    </tr>\n",
       "  </thead>\n",
       "  <tbody>\n",
       "    <tr>\n",
       "      <th>0 min</th>\n",
       "      <td>0.866070</td>\n",
       "      <td>325.443787</td>\n",
       "    </tr>\n",
       "    <tr>\n",
       "      <th>1 min</th>\n",
       "      <td>0.732516</td>\n",
       "      <td>60447.058824</td>\n",
       "    </tr>\n",
       "    <tr>\n",
       "      <th>2 min</th>\n",
       "      <td>0.577757</td>\n",
       "      <td>120451.612903</td>\n",
       "    </tr>\n",
       "    <tr>\n",
       "      <th>3 min</th>\n",
       "      <td>0.427050</td>\n",
       "      <td>180299.120235</td>\n",
       "    </tr>\n",
       "    <tr>\n",
       "      <th>4 min</th>\n",
       "      <td>0.305467</td>\n",
       "      <td>240326.470588</td>\n",
       "    </tr>\n",
       "    <tr>\n",
       "      <th>adwater</th>\n",
       "      <td>0.428087</td>\n",
       "      <td>161362.831858</td>\n",
       "    </tr>\n",
       "  </tbody>\n",
       "</table>\n",
       "</div>"
      ],
      "text/plain": [
       "         later_rate   avg_win_wait\n",
       "0 min      0.866070     325.443787\n",
       "1 min      0.732516   60447.058824\n",
       "2 min      0.577757  120451.612903\n",
       "3 min      0.427050  180299.120235\n",
       "4 min      0.305467  240326.470588\n",
       "adwater    0.428087  161362.831858"
      ]
     },
     "execution_count": 90,
     "metadata": {},
     "output_type": "execute_result"
    }
   ],
   "source": [
    "win_4"
   ]
  },
  {
   "cell_type": "code",
   "execution_count": null,
   "metadata": {},
   "outputs": [],
   "source": []
  }
 ],
 "metadata": {
  "kernelspec": {
   "display_name": "Python 3",
   "language": "python",
   "name": "python3"
  },
  "language_info": {
   "codemirror_mode": {
    "name": "ipython",
    "version": 3
   },
   "file_extension": ".py",
   "mimetype": "text/x-python",
   "name": "python",
   "nbconvert_exporter": "python",
   "pygments_lexer": "ipython3",
   "version": "3.7.4"
  }
 },
 "nbformat": 4,
 "nbformat_minor": 4
}
