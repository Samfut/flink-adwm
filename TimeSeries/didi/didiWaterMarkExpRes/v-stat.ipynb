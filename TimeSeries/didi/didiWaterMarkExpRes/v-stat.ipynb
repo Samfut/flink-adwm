{
 "cells": [
  {
   "cell_type": "code",
   "execution_count": 2,
   "metadata": {},
   "outputs": [],
   "source": [
    "%matplotlib inline\n",
    "%config InlineBackend.figure_format = 'svg'"
   ]
  },
  {
   "cell_type": "code",
   "execution_count": 3,
   "metadata": {},
   "outputs": [
    {
     "data": {
      "text/html": [
       "<style type=\"text/css\">\n",
       "table.dataframe td, table.dataframe th {\n",
       "    border: 1px  black solid !important;\n",
       "    color: black !important;\n",
       "}\n",
       "sns.set(style=\"whitegrid\")\n",
       "sns.set_context(rc={\"lines.linewidth\": 2})\n"
      ],
      "text/plain": [
       "<IPython.core.display.HTML object>"
      ]
     },
     "metadata": {},
     "output_type": "display_data"
    }
   ],
   "source": [
    "%%HTML\n",
    "<style type=\"text/css\">\n",
    "table.dataframe td, table.dataframe th {\n",
    "    border: 1px  black solid !important;\n",
    "    color: black !important;\n",
    "}\n",
    "sns.set(style=\"whitegrid\")\n",
    "sns.set_context(rc={\"lines.linewidth\": 2})"
   ]
  },
  {
   "cell_type": "code",
   "execution_count": 4,
   "metadata": {},
   "outputs": [],
   "source": [
    "import pandas as pd\n",
    "import matplotlib.pyplot as plt\n",
    "import numpy as np\n",
    "import seaborn as sns"
   ]
  },
  {
   "cell_type": "markdown",
   "metadata": {},
   "source": [
    "## 不同窗口不同延迟时间下的对比"
   ]
  },
  {
   "cell_type": "code",
   "execution_count": 5,
   "metadata": {},
   "outputs": [],
   "source": [
    "import dateutil\n",
    "from datetime import datetime\n",
    "def get_drop_latency(wm, latency, threshold):\n",
    "    \"\"\"\n",
    "        params: wm 水印和事件的映射关系 哪一个事件时间产生了水印\n",
    "                latency: 窗口被哪个水印触发\n",
    "        return dict {\n",
    "            \"drop\": 真实被丢弃的概率(一般不用),\n",
    "            \"late\": 迟到率,\n",
    "            \"avg_wait\": 每个窗口的平均等待时间\n",
    "            \"pre_win_wait\": 用来具体记录每个窗口的等待时间\n",
    "        }\n",
    "    \"\"\"\n",
    "    wm = pd.read_csv(wm)\n",
    "    latency = pd.read_csv(latency)\n",
    "    wm.columns = [\"watermark\", \"ts\"]\n",
    "    \n",
    "    # drop1是真正丢的数据\n",
    "    drop1 = wm[-1:].iloc[0]['watermark']/wm[-1:].iloc[0]['ts']\n",
    "    # drop2是默认迟到的数据\n",
    "    drop2 = wm[-2:-1].iloc[0]['watermark']/wm[-2:-1].iloc[0]['ts']\n",
    "#     print(wm[-2:-1], drop2)\n",
    "    latency.columns = [\"watermark\", \"window_end\"]\n",
    "    latency = latency.set_index(\"watermark\")\n",
    "    wm = wm.set_index(\"watermark\")\n",
    "    res = latency.join(wm, how='inner')\n",
    "    res = res.reset_index(drop = True)\n",
    "    \n",
    "    all_wait = 0\n",
    "    pre_win_wait = []\n",
    "    for index, row in res.iterrows():\n",
    "        if row['ts'] - row['window_end'] > threshold+6000:\n",
    "            row['ts']  = row['window_end'] + threshold\n",
    "        pre_win_wait.append(row['ts'] - row['window_end'])\n",
    "    \n",
    "    df = pd.DataFrame(data=dict(time=res['window_end'].tolist(),wait=pre_win_wait))\n",
    "    df.index = df['time'].apply(lambda x: datetime.fromtimestamp(x//1000)).tolist()\n",
    "    return df"
   ]
  },
  {
   "cell_type": "markdown",
   "metadata": {},
   "source": [
    "## 窗口为60s时"
   ]
  },
  {
   "cell_type": "code",
   "execution_count": 6,
   "metadata": {},
   "outputs": [],
   "source": [
    "Paths = [\n",
    "            \"./periodic/20171004P0W60/\",\n",
    "            \"./periodic/20171004P1W60/\",\n",
    "            \"./periodic/20171004P2W60/\",\n",
    "            \"./periodic/20171004P3W60/\",\n",
    "            \"./periodic/20171004P4W60/\",\n",
    "           ]\n",
    "WaterPaths = [path+\"water.csv\" for path in Paths]\n",
    "TimePaths = [path+\"timelatency.csv\" for path in Paths]"
   ]
  },
  {
   "cell_type": "code",
   "execution_count": 7,
   "metadata": {},
   "outputs": [],
   "source": [
    "adwater = './adwater/20171004AW60/water.csv'\n",
    "adwait = './adwater/20171004AW60/timelatency.csv'"
   ]
  },
  {
   "cell_type": "code",
   "execution_count": 27,
   "metadata": {},
   "outputs": [],
   "source": [
    "a = get_drop_latency(adwater,adwait,200000)"
   ]
  },
  {
   "cell_type": "code",
   "execution_count": 28,
   "metadata": {},
   "outputs": [],
   "source": [
    "b = get_drop_latency(WaterPaths[2], TimePaths[2], 200000)"
   ]
  },
  {
   "cell_type": "code",
   "execution_count": 29,
   "metadata": {},
   "outputs": [],
   "source": [
    "a['com'] = b['wait']"
   ]
  },
  {
   "cell_type": "code",
   "execution_count": 30,
   "metadata": {},
   "outputs": [],
   "source": [
    "a = a.fillna(1000)"
   ]
  },
  {
   "cell_type": "code",
   "execution_count": 32,
   "metadata": {},
   "outputs": [],
   "source": [
    "a.to_csv('DIDI201710.csv')"
   ]
  },
  {
   "cell_type": "code",
   "execution_count": null,
   "metadata": {},
   "outputs": [],
   "source": []
  }
 ],
 "metadata": {
  "kernelspec": {
   "display_name": "Python 3",
   "language": "python",
   "name": "python3"
  },
  "language_info": {
   "codemirror_mode": {
    "name": "ipython",
    "version": 3
   },
   "file_extension": ".py",
   "mimetype": "text/x-python",
   "name": "python",
   "nbconvert_exporter": "python",
   "pygments_lexer": "ipython3",
   "version": "3.7.4"
  }
 },
 "nbformat": 4,
 "nbformat_minor": 4
}
