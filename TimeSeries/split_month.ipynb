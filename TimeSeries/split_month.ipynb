{
 "cells": [
  {
   "cell_type": "code",
   "execution_count": 2,
   "metadata": {},
   "outputs": [],
   "source": [
    "import os\n",
    "import pandas as pd\n",
    "import numpy as np\n",
    "import xgboost as xgb\n",
    "import matplotlib.pyplot as plt\n",
    "import seaborn as sns\n",
    "from tqdm import tqdm\n",
    "import plotly.graph_objects as go"
   ]
  },
  {
   "cell_type": "code",
   "execution_count": 3,
   "metadata": {},
   "outputs": [],
   "source": [
    "from datetime import datetime"
   ]
  },
  {
   "cell_type": "code",
   "execution_count": 4,
   "metadata": {},
   "outputs": [],
   "source": [
    "CB201711 = \"./citybick/201711-citibike-tripdata.csv\"\n",
    "CB201808 = \"./citybick/201808-citibike-tripdata.csv\"\n",
    "CB201809 = \"./citybick/201809-citibike-tripdata.csv\"\n",
    "CB201810 = \"./citybick/201810-citibike-tripdata.csv\"\n",
    "CB201811 = \"./citybick/201811-citibike-tripdata.csv\"\n",
    "CB201812 = \"./citybick/201812-citibike-tripdata.csv\"\n",
    "CB201901 = \"./citybick/201901-citibike-tripdata.csv\"\n",
    "CB201902 = \"./citybick/201902-citibike-tripdata.csv\"\n",
    "CB201903 = \"./citybick/201903-citibike-tripdata.csv\"\n",
    "CB201904 = \"./citybick/201904-citibike-tripdata.csv\"\n",
    "CB201905 = \"./citybick/201905-citibike-tripdata.csv\""
   ]
  },
  {
   "cell_type": "code",
   "execution_count": 5,
   "metadata": {},
   "outputs": [],
   "source": [
    "import dateutil\n",
    "from pandas.tseries.offsets import Day, Hour, Minute, Second\n",
    "\n",
    "def csv2ts(csv_file: str):\n",
    "    pkl_path = \"./pickles/\" + csv_file[2:] + \".pkl\"\n",
    "    \n",
    "    if os.path.isfile(pkl_path):\n",
    "        return pd.read_pickle(pkl_path)\n",
    "    \n",
    "    trip_data = pd.read_csv(csv_file)\n",
    "    \n",
    "    trip_data_ts = trip_data['starttime'].apply(lambda x: dateutil.parser.parse(x))\n",
    "    \n",
    "    pd.to_pickle(trip_data_ts, pkl_path)\n",
    "    return trip_data_ts\n",
    "\n",
    "def divide2day(data):\n",
    "    \n",
    "    # 生成每天gap\n",
    "    def produce_day_gaps(data):\n",
    "        year, month, start_day, end_day = data[0].year, data[0].month, data[0].day, data[len(data)-1].day\n",
    "        start = \"/\".join(map(lambda x:str(x),[year, month, start_day]))\n",
    "        end = \"/\".join(map(lambda x:str(x), [year, month, end_day]))\n",
    "        end = pd.Timestamp(end) + Day(1)\n",
    "        gaps = pd.date_range(start, end, freq=\"1d\")\n",
    "        return gaps\n",
    "    \n",
    "    ts = csv2ts(data)\n",
    "    gaps = produce_day_gaps(ts)\n",
    "    \n",
    "    days = []\n",
    "    for i in range(1, len(gaps)):\n",
    "        temp = ts[(ts>=gaps[i-1])&(ts<gaps[i])]\n",
    "        temp = temp.reset_index(drop=True)\n",
    "        days.append(temp)\n",
    "    \n",
    "    return days"
   ]
  },
  {
   "cell_type": "markdown",
   "metadata": {},
   "source": [
    "## 将一个月的数据切分成每天的数据 CB201810"
   ]
  },
  {
   "cell_type": "code",
   "execution_count": 32,
   "metadata": {},
   "outputs": [],
   "source": [
    "days= divide2day(CB201810)"
   ]
  },
  {
   "cell_type": "code",
   "execution_count": 7,
   "metadata": {},
   "outputs": [],
   "source": [
    "# month_prefix = \"./citybick/CB201810\"\n",
    "# for idx, day in enumerate(days):\n",
    "#     days[idx].to_frame().to_csv(month_prefix+\"/\"+\"CB201810{0:02d}.csv\".format(idx+1), quoting=1, index=False)"
   ]
  },
  {
   "cell_type": "markdown",
   "metadata": {},
   "source": [
    "## 将一个月的数据切分成每天的数据 CB201809"
   ]
  },
  {
   "cell_type": "code",
   "execution_count": 21,
   "metadata": {},
   "outputs": [],
   "source": [
    "# days= divide2day(CB201809)"
   ]
  },
  {
   "cell_type": "code",
   "execution_count": 35,
   "metadata": {},
   "outputs": [],
   "source": [
    "# month_prefix = \"./citybick/CB201809\"\n",
    "# for idx, day in enumerate(days):\n",
    "#     days[idx].to_frame().to_csv(month_prefix+\"/\"+\"CB201809{0:02d}.csv\".format(idx+1), quoting=1, index=False)"
   ]
  },
  {
   "cell_type": "markdown",
   "metadata": {},
   "source": [
    "## 模拟启发式水印"
   ]
  },
  {
   "cell_type": "code",
   "execution_count": 30,
   "metadata": {},
   "outputs": [],
   "source": [
    "def simulate_watermark(data, latency):\n",
    "    count = len(data)\n",
    "    later = 0\n",
    "    max_wm = 0\n",
    "    for d in data:\n",
    "        if d.value//10**6 <= max_wm:\n",
    "            later += 1\n",
    "            continue\n",
    "        new_wm = d.value//10**6 - latency\n",
    "        if new_wm > max_wm:\n",
    "            max_wm = new_wm\n",
    "    return later / count"
   ]
  },
  {
   "cell_type": "code",
   "execution_count": 50,
   "metadata": {},
   "outputs": [
    {
     "name": "stderr",
     "output_type": "stream",
     "text": [
      "100%|██████████| 51/51 [00:19<00:00,  2.62it/s]\n"
     ]
    },
    {
     "data": {
      "text/plain": [
       "[<matplotlib.lines.Line2D at 0x120d26250>]"
      ]
     },
     "execution_count": 50,
     "metadata": {},
     "output_type": "execute_result"
    },
    {
     "data": {
      "image/png": "[encoded data removed]",
      "text/plain": [
       "<Figure size 432x288 with 1 Axes>"
      ]
     },
     "metadata": {},
     "output_type": "display_data"
    }
   ],
   "source": [
    "latencys = [i for i in range(0, 5001, 100)]\n",
    "res = []\n",
    "for la in tqdm(latencys):\n",
    "    res.append(simulate_watermark(days[0], la))\n",
    "plt.plot(latencys, res)"
   ]
  },
  {
   "cell_type": "code",
   "execution_count": null,
   "metadata": {},
   "outputs": [],
   "source": [
    "res = []\n",
    "for la in tqdm(latencys):\n",
    "    res.append(simulate_watermark(days[1], la))\n",
    "plt.plot(latencys, res)"
   ]
  },
  {
   "cell_type": "code",
   "execution_count": null,
   "metadata": {},
   "outputs": [],
   "source": []
  }
 ],
 "metadata": {
  "kernelspec": {
   "display_name": "Python 3",
   "language": "python",
   "name": "python3"
  },
  "language_info": {
   "codemirror_mode": {
    "name": "ipython",
    "version": 3
   },
   "file_extension": ".py",
   "mimetype": "text/x-python",
   "name": "python",
   "nbconvert_exporter": "python",
   "pygments_lexer": "ipython3",
   "version": "3.7.4"
  }
 },
 "nbformat": 4,
 "nbformat_minor": 4
}
