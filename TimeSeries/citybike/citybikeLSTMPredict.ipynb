{
 "cells": [
  {
   "cell_type": "code",
   "execution_count": 1,
   "metadata": {},
   "outputs": [],
   "source": [
    "%matplotlib inline\n",
    "%config InlineBackend.figure_format = 'svg'"
   ]
  },
  {
   "cell_type": "markdown",
   "metadata": {},
   "source": [
    "## NewYork City Bike"
   ]
  },
  {
   "cell_type": "markdown",
   "metadata": {},
   "source": [
    "在预测模型训练之前对数据进行清洗， 数据清洗的代码已经整理在 `citibikeUtil.py`中，预测器的代码已经整理在`predictor.py`中，\n",
    "`citybikeDraw.py`是用来生成图片的文件 `citybikeMetrics.py`计算指标"
   ]
  },
  {
   "cell_type": "code",
   "execution_count": 2,
   "metadata": {},
   "outputs": [],
   "source": [
    "import seaborn as sns\n",
    "import matplotlib.pyplot as plt"
   ]
  },
  {
   "cell_type": "code",
   "execution_count": 3,
   "metadata": {},
   "outputs": [],
   "source": [
    "import numpy as np\n",
    "import pandas as pd"
   ]
  },
  {
   "cell_type": "code",
   "execution_count": 4,
   "metadata": {},
   "outputs": [
    {
     "name": "stderr",
     "output_type": "stream",
     "text": [
      "Using TensorFlow backend.\n"
     ]
    }
   ],
   "source": [
    "from citybikeUtil import CB201808, CB201809, CB201810, CB201811, CB201812, CB201901, CB201902\n",
    "from predictor import LSTMPredictor, DecisionTreePredictor, XGBoostPredictor"
   ]
  },
  {
   "cell_type": "markdown",
   "metadata": {},
   "source": [
    "## LSTMPredictor"
   ]
  },
  {
   "cell_type": "code",
   "execution_count": 5,
   "metadata": {},
   "outputs": [],
   "source": [
    "lstm_predictor = LSTMPredictor()\n",
    "lstm_predictor.train_month = CB201808"
   ]
  },
  {
   "cell_type": "markdown",
   "metadata": {},
   "source": [
    "### 训练模型"
   ]
  },
  {
   "cell_type": "code",
   "execution_count": 6,
   "metadata": {},
   "outputs": [
    {
     "name": "stdout",
     "output_type": "stream",
     "text": [
      "./201808-citibike-tripdata.csv.lstm.h5\n"
     ]
    }
   ],
   "source": [
    "train_x, train_y = lstm_predictor.get_train_vec(CB201808)\n",
    "test_x, test_y = lstm_predictor.get_train_vec(CB201809)\n",
    "lstm_predictor.train_model(train_x, train_y)\n",
    "predict_y = lstm_predictor.model.predict(test_x)"
   ]
  },
  {
   "cell_type": "markdown",
   "metadata": {},
   "source": [
    "### 导出PMML"
   ]
  },
  {
   "cell_type": "code",
   "execution_count": 7,
   "metadata": {},
   "outputs": [
    {
     "name": "stdout",
     "output_type": "stream",
     "text": [
      "./pickles/citybick/CB201808.pmml True\n",
      "\n",
      "    [x] Model validation successful.\n",
      "    [x] Generating Data Dictionary:\n",
      "        [-] x0...OK!\n",
      "        [-] x1...OK!\n",
      "        [-] x2...OK!\n",
      "        [-] x3...OK!\n",
      "        [-] x4...OK!\n",
      "        [-] x5...OK!\n",
      "        [-] x6...OK!\n",
      "        [-] x7...OK!\n",
      "        [-] x8...OK!\n",
      "        [-] x9...OK!\n",
      "        [-] x10...OK!\n",
      "        [-] x11...OK!\n",
      "    \n",
      "save file keras.pmml\n"
     ]
    }
   ],
   "source": [
    "lstm_predictor.keras2pmml(estimator=lstm_predictor.model, transformer=None, file='keras.pmml')"
   ]
  },
  {
   "cell_type": "markdown",
   "metadata": {},
   "source": [
    "### 根据预测结果的个数生成 时间间隔 \n",
    "\n",
    "预测月份是9月份 因为需要生成13点的向量 需要收集前12点的数据 所以从13点开始 看到预测结果的个数是707 所以periods参数为707 表示生成707个周期的结果 freq代表频率 'H'代表小时 每小时生成一个\n",
    "\n",
    "### 使用seaborn画图需要将数据合成df"
   ]
  },
  {
   "cell_type": "code",
   "execution_count": null,
   "metadata": {},
   "outputs": [],
   "source": [
    "date_index = pd.date_range(start='2018-09-01 13:00:00', periods=707, freq='H')\n",
    "merge_data = {\n",
    "    'predict': predict_y.flatten(),\n",
    "    'real': test_y.flatten()\n",
    "}\n",
    "lstm_df = pd.DataFrame(merge_data, index=date_index)"
   ]
  },
  {
   "cell_type": "code",
   "execution_count": null,
   "metadata": {},
   "outputs": [],
   "source": [
    "date_index.tolist()"
   ]
  },
  {
   "cell_type": "code",
   "execution_count": null,
   "metadata": {},
   "outputs": [],
   "source": [
    "import json"
   ]
  },
  {
   "cell_type": "code",
   "execution_count": null,
   "metadata": {},
   "outputs": [],
   "source": [
    "merge_data = {\n",
    "    'predict': predict_y.flatten().tolist(),\n",
    "    'real': test_y.flatten().tolist(),\n",
    "    \"time\": date_index.tolist()\n",
    "}"
   ]
  },
  {
   "cell_type": "markdown",
   "metadata": {},
   "source": [
    "# 实验结果"
   ]
  },
  {
   "cell_type": "markdown",
   "metadata": {},
   "source": [
    "## 预测结果图展示\n",
    "因为一个月的太长了，只显示调整为1周"
   ]
  },
  {
   "cell_type": "code",
   "execution_count": null,
   "metadata": {},
   "outputs": [],
   "source": [
    "sns.set(style=\"whitegrid\")\n",
    "sns.set_context(rc={\"lines.linewidth\": 2})"
   ]
  },
  {
   "cell_type": "code",
   "execution_count": null,
   "metadata": {},
   "outputs": [],
   "source": [
    "# plt.figure(figsize=(15, 5))\n",
    "f, ax = plt.subplots(figsize = (8, 4))\n",
    "# 设置图名称\n",
    "# ax.set_title('DataStream DisOrder Predict - 1st Week', fontsize=15)\n",
    "# 设置X轴 Y轴 的label\n",
    "ax.set_xlabel('Time',fontsize=10)\n",
    "ax.set_ylabel('Disorder Rate',fontsize=15)\n",
    "sns.lineplot(size='event',\n",
    "             markers=True,dashes=False,\n",
    "             data=lstm_df[12:92])\n",
    "plt.savefig('lstm-bike.eps',bbox_inches='tight',format='eps')"
   ]
  },
  {
   "cell_type": "code",
   "execution_count": null,
   "metadata": {},
   "outputs": [],
   "source": [
    "# plt.figure(figsize=(15, 5))\n",
    "import matplotlib\n",
    "# matplotlib.rcParams['font.sans-serif'] = ['Microsoft Yahei']\n",
    "f, ax = plt.subplots(figsize = (20, 3))\n",
    "# 设置图名称\n",
    "# ax.set_title('DataStream DisOrder Predict - 1st Week', fontsize=15)\n",
    "# 设置X轴 Y轴 的label\n",
    "# ax.set_xlabel('时间',fontsize=15)\n",
    "# ax.set_ylabel('数据乱序率',fontsize=20)\n",
    "# plt.xlabel('星期',fontdict={'family':'SimSun', 'size': 14})\n",
    "plt.ylabel('数据乱序率',fontdict={'family':'SimSun', 'size': 20})\n",
    "sns.lineplot(size='event',\n",
    "             markers=True,dashes=False,\n",
    "             data=lstm_df[:169])\n",
    "plt.savefig('单车预测结果-lstm.pdf',bbox_inches='tight',format='pdf')"
   ]
  },
  {
   "cell_type": "markdown",
   "metadata": {},
   "source": [
    "## 导出eps"
   ]
  },
  {
   "cell_type": "code",
   "execution_count": null,
   "metadata": {},
   "outputs": [],
   "source": []
  },
  {
   "cell_type": "markdown",
   "metadata": {},
   "source": [
    "## 封装成一个画图类"
   ]
  },
  {
   "cell_type": "code",
   "execution_count": null,
   "metadata": {},
   "outputs": [],
   "source": [
    "from citybikeDraw import DrawLSTM\n",
    "draw = DrawLSTM()\n",
    "draw.set_train_month(CB201808)\n",
    "test_y, predict_y = draw.get_predict_result(CB201808, CB201809)"
   ]
  },
  {
   "cell_type": "code",
   "execution_count": null,
   "metadata": {},
   "outputs": [],
   "source": [
    "draw.draw_real_predict(\n",
    "    week_num=1,\n",
    "    start_time=\"2018-09-01 13:00:00\",\n",
    "    title=\"DataStream DisOrder Predict\",\n",
    "    figsize=(15,5)\n",
    ")"
   ]
  },
  {
   "cell_type": "markdown",
   "metadata": {},
   "source": [
    "## 回归性能指标"
   ]
  },
  {
   "cell_type": "markdown",
   "metadata": {},
   "source": [
    "分月份展示:\n",
    "\n",
    "比如训练 CB201808 预测 CB201809  均方根误差（标准误差）平均绝对误差  R-squared\n",
    "\n",
    "比如训练 CB201809 预测 CB201810 均方根误差（标准误差）平均绝对误差  R-squared"
   ]
  },
  {
   "cell_type": "markdown",
   "metadata": {},
   "source": [
    "### 均方根误差(Root Mean Squard Error，RMSE)\n",
    "\n",
    "$RMSE=\\sqrt{\\frac{1}{m} \\sum_{i=1}^{m}\\left(f_{i}-y_{i}\\right)^{2}}$\n",
    "\n",
    "标准差是方差的算术平方根。标准误差是均方误差的算术平方根。\n",
    "标准差是用来衡量一组数自身的离散程度，而均方根误差是用来衡量观测值同真值之间的偏差，它们的研究对象和研究目的不同，但是计算过程类似\n",
    "\n",
    "它的意义在于开个根号后，误差的结果就与数据是一个级别的，可以更好地来描述数据。标准误差对一组测量中的特大或特小误差反映非常敏感，所以，标准误差能够很好地反映出测量的精密度。这正是标准误差在工程测量中广泛被采用的原因。"
   ]
  },
  {
   "cell_type": "code",
   "execution_count": null,
   "metadata": {},
   "outputs": [],
   "source": [
    "from sklearn.metrics import mean_squared_error\n",
    "import numpy as np\n",
    "np.sqrt(mean_squared_error(test_y, predict_y))"
   ]
  },
  {
   "cell_type": "markdown",
   "metadata": {},
   "source": [
    "### 平均绝对误差(Mean Absolute Error，MAE)\n",
    "\n",
    "$MAE=\\frac{1}{m} \\sum_{i=1}^{m}\\left|f_{i}-y_{i}\\right|$\n",
    "\n",
    "平均绝对误差能更好地反映预测值误差的实际情况."
   ]
  },
  {
   "cell_type": "code",
   "execution_count": null,
   "metadata": {},
   "outputs": [],
   "source": [
    "from sklearn.metrics import median_absolute_error\n",
    "median_absolute_error(test_y, predict_y)"
   ]
  },
  {
   "cell_type": "markdown",
   "metadata": {},
   "source": [
    "### R-squared\n",
    "$R^{2}=1-\\frac{\\sum_{i=1}^{m}\\left(f_{i}-y_{i}\\right)^{2}}{\\sum_{i=1}^{m}\\left(\\overline{y_{i}}-y_{i}\\right)^{2}}$\n",
    "\n",
    "上面分子就是我们训练出的模型预测的误差和。\n",
    "下面分母就是瞎猜的误差和。（通常取观测值的平均值）\n",
    "\n",
    "如果结果是0，就说明我们的模型跟瞎猜差不多。\n",
    "如果结果是1。就说明我们模型无错误。\n",
    "\n",
    "$R^2$介于0~1之间，越接近1，回归拟合效果越好，一般认为超过0.8的模型拟合优度比较高。\n"
   ]
  },
  {
   "cell_type": "code",
   "execution_count": null,
   "metadata": {},
   "outputs": [],
   "source": [
    "from sklearn.metrics import r2_score\n",
    "r2_score(test_y, predict_y)"
   ]
  },
  {
   "cell_type": "markdown",
   "metadata": {},
   "source": [
    "## 统计每个月预测结果的回归性能指标"
   ]
  },
  {
   "cell_type": "code",
   "execution_count": null,
   "metadata": {},
   "outputs": [],
   "source": [
    "%%HTML\n",
    "<style type=\"text/css\">\n",
    "table.dataframe td, table.dataframe th {\n",
    "    border: 1px  black solid !important;\n",
    "  color: black !important;\n",
    "}"
   ]
  },
  {
   "cell_type": "code",
   "execution_count": null,
   "metadata": {},
   "outputs": [],
   "source": [
    "from citybikeMetrics import get_reg_metrics"
   ]
  },
  {
   "cell_type": "code",
   "execution_count": null,
   "metadata": {},
   "outputs": [],
   "source": [
    "months = [CB201808, CB201809, CB201810, CB201811, CB201812, CB201901, CB201902]"
   ]
  },
  {
   "cell_type": "markdown",
   "metadata": {},
   "source": [
    "### 使用更新的模型"
   ]
  },
  {
   "cell_type": "code",
   "execution_count": null,
   "metadata": {},
   "outputs": [],
   "source": [
    "update_metrics = get_reg_metrics(months, True)"
   ]
  },
  {
   "cell_type": "markdown",
   "metadata": {},
   "source": [
    "### 不使用更新的模型"
   ]
  },
  {
   "cell_type": "code",
   "execution_count": null,
   "metadata": {},
   "outputs": [],
   "source": [
    "unupdate_metrics = get_reg_metrics(months, False)"
   ]
  },
  {
   "cell_type": "code",
   "execution_count": null,
   "metadata": {},
   "outputs": [],
   "source": [
    "result = pd.concat([update_metrics,unupdate_metrics], axis=1)"
   ]
  },
  {
   "cell_type": "code",
   "execution_count": null,
   "metadata": {},
   "outputs": [],
   "source": [
    "result.columns = [[\"Update Model\",\"Update Model\",\"Update Model\",\"UnUpdate\",\"UnUpdate\",\"UnUpdate\"],[\"RMSE\", \"MAE\", \"R2S\",\"RMSE\", \"MAE\", \"R2S\"]]"
   ]
  },
  {
   "cell_type": "code",
   "execution_count": null,
   "metadata": {},
   "outputs": [],
   "source": [
    "result"
   ]
  },
  {
   "cell_type": "code",
   "execution_count": null,
   "metadata": {},
   "outputs": [],
   "source": [
    "update_metrics"
   ]
  },
  {
   "cell_type": "code",
   "execution_count": null,
   "metadata": {},
   "outputs": [],
   "source": [
    "unupdate_metrics"
   ]
  },
  {
   "cell_type": "code",
   "execution_count": null,
   "metadata": {},
   "outputs": [],
   "source": []
  }
 ],
 "metadata": {
  "kernelspec": {
   "display_name": "Python 3",
   "language": "python",
   "name": "python3"
  },
  "language_info": {
   "codemirror_mode": {
    "name": "ipython",
    "version": 3
   },
   "file_extension": ".py",
   "mimetype": "text/x-python",
   "name": "python",
   "nbconvert_exporter": "python",
   "pygments_lexer": "ipython3",
   "version": "3.7.4"
  }
 },
 "nbformat": 4,
 "nbformat_minor": 4
}
