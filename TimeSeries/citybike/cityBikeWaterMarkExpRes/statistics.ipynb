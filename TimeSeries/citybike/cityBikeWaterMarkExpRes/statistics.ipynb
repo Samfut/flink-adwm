{
 "cells": [
  {
   "cell_type": "code",
   "execution_count": 1,
   "metadata": {},
   "outputs": [],
   "source": [
    "%matplotlib inline\n",
    "%config InlineBackend.figure_format = 'svg'"
   ]
  },
  {
   "cell_type": "code",
   "execution_count": 2,
   "metadata": {},
   "outputs": [
    {
     "data": {
      "text/html": [
       "<style type=\"text/css\">\n",
       "table.dataframe td, table.dataframe th {\n",
       "    border: 1px  black solid !important;\n",
       "    color: black !important;\n",
       "}"
      ],
      "text/plain": [
       "<IPython.core.display.HTML object>"
      ]
     },
     "metadata": {},
     "output_type": "display_data"
    }
   ],
   "source": [
    "%%HTML\n",
    "<style type=\"text/css\">\n",
    "table.dataframe td, table.dataframe th {\n",
    "    border: 1px  black solid !important;\n",
    "    color: black !important;\n",
    "}"
   ]
  },
  {
   "cell_type": "code",
   "execution_count": 3,
   "metadata": {},
   "outputs": [],
   "source": [
    "import pandas as pd\n",
    "import matplotlib.pyplot as plt\n",
    "import numpy as np\n",
    "import seaborn as sns"
   ]
  },
  {
   "cell_type": "code",
   "execution_count": 4,
   "metadata": {},
   "outputs": [],
   "source": [
    "sns.set(style=\"whitegrid\")\n",
    "sns.set_context(rc={\"lines.linewidth\": 2})"
   ]
  },
  {
   "cell_type": "markdown",
   "metadata": {},
   "source": [
    "## 不同窗口不同延迟时间下的对比"
   ]
  },
  {
   "cell_type": "code",
   "execution_count": 27,
   "metadata": {},
   "outputs": [],
   "source": [
    "def get_drop_latency(wm, latency, threshold):\n",
    "    \"\"\"\n",
    "        params: wm 水印和事件的映射关系 哪一个事件时间产生了水印\n",
    "                latency: 窗口被哪个水印触发\n",
    "        return dict {\n",
    "            \"drop\": 真实被丢弃的概率(一般不用),\n",
    "            \"late\": 迟到率,\n",
    "            \"avg_wait\": 每个窗口的平均等待时间\n",
    "            \"pre_win_wait\": 用来具体记录每个窗口的等待时间\n",
    "        }\n",
    "    \"\"\"\n",
    "    wm = pd.read_csv(wm)\n",
    "    latency = pd.read_csv(latency)\n",
    "    wm.columns = [\"watermark\", \"ts\"]\n",
    "    \n",
    "    # drop1是真正丢的数据\n",
    "    drop1 = wm[-1:].iloc[0]['watermark']/wm[-1:].iloc[0]['ts']\n",
    "    # drop2是默认迟到的数据\n",
    "    drop2 = wm[-2:-1].iloc[0]['watermark']/wm[-2:-1].iloc[0]['ts']\n",
    "#     print(wm[-2:-1], drop2)\n",
    "    latency.columns = [\"watermark\", \"window_end\"]\n",
    "    latency = latency.set_index(\"watermark\")\n",
    "    wm = wm.set_index(\"watermark\")\n",
    "    res = latency.join(wm, how='inner')\n",
    "    res = res.reset_index(drop = True)\n",
    "    \n",
    "    all_wait = 0\n",
    "    pre_win_wait = []\n",
    "    for index, row in res.iterrows():\n",
    "        if row['ts'] - row['window_end'] > threshold+6000:\n",
    "            row['ts']  = row['window_end'] + threshold\n",
    "        pre_win_wait.append(row['ts'] - row['window_end'])\n",
    "        all_wait += row['ts'] - row['window_end']\n",
    "    avg_wait = all_wait/len(res)\n",
    "    \n",
    "    return dict(drop=drop1, late=drop2, avg_wait=avg_wait, pre_win_wait=pre_win_wait)"
   ]
  },
  {
   "cell_type": "code",
   "execution_count": 77,
   "metadata": {},
   "outputs": [],
   "source": [
    "def list_params_diff_latecny(WaterPaths, TimePaths):\n",
    "    index = [0,500,1000, 1500, 2000]\n",
    "    later_rate, avg_win_wait = [], []\n",
    "    for i in range(len(WaterPaths)):\n",
    "        water = WaterPaths[i]\n",
    "        time = TimePaths[i]\n",
    "        res = get_drop_latency(water, time, index[i])\n",
    "        later_rate.append(res['late'])\n",
    "        avg_win_wait.append(res['avg_wait'])\n",
    "    data = {\n",
    "        'later_rate': later_rate,\n",
    "        'avg_win_wait': avg_win_wait\n",
    "    }\n",
    "    df = pd.DataFrame(data, index=index)\n",
    "    return df"
   ]
  },
  {
   "cell_type": "markdown",
   "metadata": {},
   "source": [
    "## 窗口为60s时"
   ]
  },
  {
   "cell_type": "code",
   "execution_count": 78,
   "metadata": {},
   "outputs": [],
   "source": [
    "Paths = [\n",
    "            \"./periodic/20181001P0W60/\",\n",
    "            \"./periodic/20181001P0.5W60/\",\n",
    "            \"./periodic/20181001P1W60/\",\n",
    "            \"./periodic/20181001P1.5W60/\",\n",
    "            \"./periodic/20181001P2W60/\",\n",
    "           ]\n",
    "WaterPaths = [path+\"water.csv\" for path in Paths]\n",
    "TimePaths = [path+\"timelatency.csv\" for path in Paths]"
   ]
  },
  {
   "cell_type": "code",
   "execution_count": 79,
   "metadata": {},
   "outputs": [],
   "source": [
    "adwater = './adwater/20181001AW60/water.csv'\n",
    "adwait = './adwater/20181001AW60/timelatency.csv'\n",
    "def get_com_df(adwater, adwait):\n",
    "    com = list_params_diff_latecny(WaterPaths, TimePaths)\n",
    "    a = get_drop_latency(adwater, adwait, 1000)\n",
    "    df_a = pd.DataFrame({\"later_rate\":[a['late']],\"avg_win_wait\":[a['avg_wait']]}, index=[\"adwater\"])\n",
    "    com = com.append(df_a)\n",
    "    return com"
   ]
  },
  {
   "cell_type": "code",
   "execution_count": 80,
   "metadata": {},
   "outputs": [],
   "source": [
    "win_60 = get_com_df(adwater,adwait)"
   ]
  },
  {
   "cell_type": "code",
   "execution_count": 81,
   "metadata": {},
   "outputs": [
    {
     "data": {
      "text/html": [
       "<div>\n",
       "<style scoped>\n",
       "    .dataframe tbody tr th:only-of-type {\n",
       "        vertical-align: middle;\n",
       "    }\n",
       "\n",
       "    .dataframe tbody tr th {\n",
       "        vertical-align: top;\n",
       "    }\n",
       "\n",
       "    .dataframe thead th {\n",
       "        text-align: right;\n",
       "    }\n",
       "</style>\n",
       "<table border=\"1\" class=\"dataframe\">\n",
       "  <thead>\n",
       "    <tr style=\"text-align: right;\">\n",
       "      <th></th>\n",
       "      <th>later_rate</th>\n",
       "      <th>avg_win_wait</th>\n",
       "    </tr>\n",
       "  </thead>\n",
       "  <tbody>\n",
       "    <tr>\n",
       "      <th>0</th>\n",
       "      <td>0.480708</td>\n",
       "      <td>1244.935532</td>\n",
       "    </tr>\n",
       "    <tr>\n",
       "      <th>500</th>\n",
       "      <td>0.373897</td>\n",
       "      <td>1775.500000</td>\n",
       "    </tr>\n",
       "    <tr>\n",
       "      <th>1000</th>\n",
       "      <td>0.286769</td>\n",
       "      <td>2236.641679</td>\n",
       "    </tr>\n",
       "    <tr>\n",
       "      <th>1500</th>\n",
       "      <td>0.222758</td>\n",
       "      <td>2750.259370</td>\n",
       "    </tr>\n",
       "    <tr>\n",
       "      <th>2000</th>\n",
       "      <td>0.177758</td>\n",
       "      <td>3282.474513</td>\n",
       "    </tr>\n",
       "    <tr>\n",
       "      <th>adwater</th>\n",
       "      <td>0.280170</td>\n",
       "      <td>2150.630435</td>\n",
       "    </tr>\n",
       "  </tbody>\n",
       "</table>\n",
       "</div>"
      ],
      "text/plain": [
       "         later_rate  avg_win_wait\n",
       "0          0.480708   1244.935532\n",
       "500        0.373897   1775.500000\n",
       "1000       0.286769   2236.641679\n",
       "1500       0.222758   2750.259370\n",
       "2000       0.177758   3282.474513\n",
       "adwater    0.280170   2150.630435"
      ]
     },
     "execution_count": 81,
     "metadata": {},
     "output_type": "execute_result"
    }
   ],
   "source": [
    "win_60"
   ]
  },
  {
   "cell_type": "markdown",
   "metadata": {},
   "source": [
    "## 窗口为30s时"
   ]
  },
  {
   "cell_type": "code",
   "execution_count": 82,
   "metadata": {},
   "outputs": [],
   "source": [
    "Paths = [\n",
    "            \"./periodic/20181001P0W30/\",\n",
    "            \"./periodic/20181001P0.5W30/\",\n",
    "            \"./periodic/20181001P1W30/\",\n",
    "            \"./periodic/20181001P1.5W30/\",\n",
    "            \"./periodic/20181001P2W30/\",\n",
    "           ]\n",
    "WaterPaths = [path+\"water.csv\" for path in Paths]\n",
    "TimePaths = [path+\"timelatency.csv\" for path in Paths]"
   ]
  },
  {
   "cell_type": "code",
   "execution_count": 83,
   "metadata": {},
   "outputs": [],
   "source": [
    "adwater = './adwater/20181001AW30/water.csv'\n",
    "adwait = './adwater/20181001AW30/timelatency.csv'\n",
    "def get_com_df(adwater, adwait):\n",
    "    com = list_params_diff_latecny(WaterPaths, TimePaths)\n",
    "    a = get_drop_latency(adwater, adwait, 1000)\n",
    "    df_a = pd.DataFrame({\"later_rate\":[a['late']],\"avg_win_wait\":[a['avg_wait']]}, index=[\"adwater\"])\n",
    "    com = com.append(df_a)\n",
    "    return com"
   ]
  },
  {
   "cell_type": "code",
   "execution_count": 84,
   "metadata": {},
   "outputs": [],
   "source": [
    "win_30 = get_com_df(adwater,adwait)"
   ]
  },
  {
   "cell_type": "code",
   "execution_count": 85,
   "metadata": {},
   "outputs": [
    {
     "data": {
      "text/html": [
       "<div>\n",
       "<style scoped>\n",
       "    .dataframe tbody tr th:only-of-type {\n",
       "        vertical-align: middle;\n",
       "    }\n",
       "\n",
       "    .dataframe tbody tr th {\n",
       "        vertical-align: top;\n",
       "    }\n",
       "\n",
       "    .dataframe thead th {\n",
       "        text-align: right;\n",
       "    }\n",
       "</style>\n",
       "<table border=\"1\" class=\"dataframe\">\n",
       "  <thead>\n",
       "    <tr style=\"text-align: right;\">\n",
       "      <th></th>\n",
       "      <th>later_rate</th>\n",
       "      <th>avg_win_wait</th>\n",
       "    </tr>\n",
       "  </thead>\n",
       "  <tbody>\n",
       "    <tr>\n",
       "      <th>0</th>\n",
       "      <td>0.480708</td>\n",
       "      <td>1308.152318</td>\n",
       "    </tr>\n",
       "    <tr>\n",
       "      <th>500</th>\n",
       "      <td>0.373897</td>\n",
       "      <td>1799.272302</td>\n",
       "    </tr>\n",
       "    <tr>\n",
       "      <th>1000</th>\n",
       "      <td>0.286769</td>\n",
       "      <td>2263.808726</td>\n",
       "    </tr>\n",
       "    <tr>\n",
       "      <th>1500</th>\n",
       "      <td>0.222758</td>\n",
       "      <td>2777.338527</td>\n",
       "    </tr>\n",
       "    <tr>\n",
       "      <th>2000</th>\n",
       "      <td>0.177758</td>\n",
       "      <td>3318.169459</td>\n",
       "    </tr>\n",
       "    <tr>\n",
       "      <th>adwater</th>\n",
       "      <td>0.273656</td>\n",
       "      <td>2180.935221</td>\n",
       "    </tr>\n",
       "  </tbody>\n",
       "</table>\n",
       "</div>"
      ],
      "text/plain": [
       "         later_rate  avg_win_wait\n",
       "0          0.480708   1308.152318\n",
       "500        0.373897   1799.272302\n",
       "1000       0.286769   2263.808726\n",
       "1500       0.222758   2777.338527\n",
       "2000       0.177758   3318.169459\n",
       "adwater    0.273656   2180.935221"
      ]
     },
     "execution_count": 85,
     "metadata": {},
     "output_type": "execute_result"
    }
   ],
   "source": [
    "win_30"
   ]
  },
  {
   "cell_type": "markdown",
   "metadata": {},
   "source": [
    "## 窗口为90s时"
   ]
  },
  {
   "cell_type": "code",
   "execution_count": 86,
   "metadata": {},
   "outputs": [],
   "source": [
    "Paths = [\n",
    "            \"./periodic/20181001P0W90/\",\n",
    "            \"./periodic/20181001P0.5W90/\",\n",
    "            \"./periodic/20181001P1W90/\",\n",
    "            \"./periodic/20181001P1.5W90/\",\n",
    "            \"./periodic/20181001P2W90/\",\n",
    "           ]\n",
    "WaterPaths = [path+\"water.csv\" for path in Paths]\n",
    "TimePaths = [path+\"timelatency.csv\" for path in Paths]"
   ]
  },
  {
   "cell_type": "code",
   "execution_count": 87,
   "metadata": {},
   "outputs": [],
   "source": [
    "adwater = './adwater/20181001AW90/water.csv'\n",
    "adwait = './adwater/20181001AW90/timelatency.csv'\n",
    "def get_com_df(adwater, adwait):\n",
    "    com = list_params_diff_latecny(WaterPaths, TimePaths)\n",
    "    a = get_drop_latency(adwater, adwait, 1000)\n",
    "    df_a = pd.DataFrame({\"later_rate\":[a['late']],\"avg_win_wait\":[a['avg_wait']]}, index=[\"adwater\"])\n",
    "    com = com.append(df_a)\n",
    "    return com"
   ]
  },
  {
   "cell_type": "code",
   "execution_count": 88,
   "metadata": {},
   "outputs": [],
   "source": [
    "win_90 = get_com_df(adwater,adwait)"
   ]
  },
  {
   "cell_type": "code",
   "execution_count": 89,
   "metadata": {},
   "outputs": [
    {
     "data": {
      "text/html": [
       "<div>\n",
       "<style scoped>\n",
       "    .dataframe tbody tr th:only-of-type {\n",
       "        vertical-align: middle;\n",
       "    }\n",
       "\n",
       "    .dataframe tbody tr th {\n",
       "        vertical-align: top;\n",
       "    }\n",
       "\n",
       "    .dataframe thead th {\n",
       "        text-align: right;\n",
       "    }\n",
       "</style>\n",
       "<table border=\"1\" class=\"dataframe\">\n",
       "  <thead>\n",
       "    <tr style=\"text-align: right;\">\n",
       "      <th></th>\n",
       "      <th>later_rate</th>\n",
       "      <th>avg_win_wait</th>\n",
       "    </tr>\n",
       "  </thead>\n",
       "  <tbody>\n",
       "    <tr>\n",
       "      <th>0</th>\n",
       "      <td>0.480708</td>\n",
       "      <td>1227.733037</td>\n",
       "    </tr>\n",
       "    <tr>\n",
       "      <th>500</th>\n",
       "      <td>0.373897</td>\n",
       "      <td>1738.324805</td>\n",
       "    </tr>\n",
       "    <tr>\n",
       "      <th>1000</th>\n",
       "      <td>0.286769</td>\n",
       "      <td>2186.463849</td>\n",
       "    </tr>\n",
       "    <tr>\n",
       "      <th>1500</th>\n",
       "      <td>0.222758</td>\n",
       "      <td>2713.566185</td>\n",
       "    </tr>\n",
       "    <tr>\n",
       "      <th>2000</th>\n",
       "      <td>0.177758</td>\n",
       "      <td>3245.154616</td>\n",
       "    </tr>\n",
       "    <tr>\n",
       "      <th>adwater</th>\n",
       "      <td>0.280507</td>\n",
       "      <td>2143.724138</td>\n",
       "    </tr>\n",
       "  </tbody>\n",
       "</table>\n",
       "</div>"
      ],
      "text/plain": [
       "         later_rate  avg_win_wait\n",
       "0          0.480708   1227.733037\n",
       "500        0.373897   1738.324805\n",
       "1000       0.286769   2186.463849\n",
       "1500       0.222758   2713.566185\n",
       "2000       0.177758   3245.154616\n",
       "adwater    0.280507   2143.724138"
      ]
     },
     "execution_count": 89,
     "metadata": {},
     "output_type": "execute_result"
    }
   ],
   "source": [
    "win_90"
   ]
  },
  {
   "cell_type": "markdown",
   "metadata": {},
   "source": [
    "## 窗口为120s时"
   ]
  },
  {
   "cell_type": "code",
   "execution_count": 90,
   "metadata": {},
   "outputs": [],
   "source": [
    "Paths = [\n",
    "            \"./periodic/20181001P0W120/\",\n",
    "            \"./periodic/20181001P0.5W120/\",\n",
    "            \"./periodic/20181001P1W120/\",\n",
    "            \"./periodic/20181001P1.5W120/\",\n",
    "            \"./periodic/20181001P2W120/\",\n",
    "           ]\n",
    "WaterPaths = [path+\"water.csv\" for path in Paths]\n",
    "TimePaths = [path+\"timelatency.csv\" for path in Paths]"
   ]
  },
  {
   "cell_type": "code",
   "execution_count": 91,
   "metadata": {},
   "outputs": [],
   "source": [
    "adwater = './adwater/20181001AW120/water.csv'\n",
    "adwait = './adwater/20181001AW120/timelatency.csv'\n",
    "def get_com_df(adwater, adwait):\n",
    "    com = list_params_diff_latecny(WaterPaths, TimePaths)\n",
    "    a = get_drop_latency(adwater, adwait, 1000)\n",
    "    df_a = pd.DataFrame({\"later_rate\":[a['late']],\"avg_win_wait\":[a['avg_wait']]}, index=[\"adwater\"])\n",
    "    com = com.append(df_a)\n",
    "    return com"
   ]
  },
  {
   "cell_type": "code",
   "execution_count": 92,
   "metadata": {},
   "outputs": [],
   "source": [
    "win_120 = get_com_df(adwater,adwait)"
   ]
  },
  {
   "cell_type": "code",
   "execution_count": 93,
   "metadata": {},
   "outputs": [
    {
     "data": {
      "text/html": [
       "<div>\n",
       "<style scoped>\n",
       "    .dataframe tbody tr th:only-of-type {\n",
       "        vertical-align: middle;\n",
       "    }\n",
       "\n",
       "    .dataframe tbody tr th {\n",
       "        vertical-align: top;\n",
       "    }\n",
       "\n",
       "    .dataframe thead th {\n",
       "        text-align: right;\n",
       "    }\n",
       "</style>\n",
       "<table border=\"1\" class=\"dataframe\">\n",
       "  <thead>\n",
       "    <tr style=\"text-align: right;\">\n",
       "      <th></th>\n",
       "      <th>later_rate</th>\n",
       "      <th>avg_win_wait</th>\n",
       "    </tr>\n",
       "  </thead>\n",
       "  <tbody>\n",
       "    <tr>\n",
       "      <th>0</th>\n",
       "      <td>0.480708</td>\n",
       "      <td>1175.578561</td>\n",
       "    </tr>\n",
       "    <tr>\n",
       "      <th>500</th>\n",
       "      <td>0.373897</td>\n",
       "      <td>1773.080764</td>\n",
       "    </tr>\n",
       "    <tr>\n",
       "      <th>1000</th>\n",
       "      <td>0.286769</td>\n",
       "      <td>2243.541850</td>\n",
       "    </tr>\n",
       "    <tr>\n",
       "      <th>1500</th>\n",
       "      <td>0.222758</td>\n",
       "      <td>2764.917768</td>\n",
       "    </tr>\n",
       "    <tr>\n",
       "      <th>2000</th>\n",
       "      <td>0.177758</td>\n",
       "      <td>3306.797357</td>\n",
       "    </tr>\n",
       "    <tr>\n",
       "      <th>adwater</th>\n",
       "      <td>0.278447</td>\n",
       "      <td>2082.860499</td>\n",
       "    </tr>\n",
       "  </tbody>\n",
       "</table>\n",
       "</div>"
      ],
      "text/plain": [
       "         later_rate  avg_win_wait\n",
       "0          0.480708   1175.578561\n",
       "500        0.373897   1773.080764\n",
       "1000       0.286769   2243.541850\n",
       "1500       0.222758   2764.917768\n",
       "2000       0.177758   3306.797357\n",
       "adwater    0.278447   2082.860499"
      ]
     },
     "execution_count": 93,
     "metadata": {},
     "output_type": "execute_result"
    }
   ],
   "source": [
    "win_120"
   ]
  },
  {
   "cell_type": "markdown",
   "metadata": {},
   "source": [
    "## 合并结果"
   ]
  },
  {
   "cell_type": "markdown",
   "metadata": {},
   "source": [
    "## 显示表格"
   ]
  },
  {
   "cell_type": "code",
   "execution_count": 94,
   "metadata": {},
   "outputs": [],
   "source": [
    "win = [win_30, win_60, win_90, win_120]\n",
    "com = pd.concat(win, axis=1)\n",
    "com.columns = [[\"WinSize-30s\",\"WinSize-30s\",\"WinSize-60s\",\"WinSize-60s\",\"WinSize-90s\",\"WinSize-90s\", \"WinSize-120s\", \"WinSize-120s\"],[\"later_rate\", \"avg_win_wait\", \"later_rate\", \"avg_win_wait\", \"later_rate\", \"avg_win_wait\",\"later_rate\", \"avg_win_wait\"]]\n",
    "com.index =[\"0ms\",\"500ms\",\"1000ms\", \"1500ms\", \"2000ms\", \"adwater\"]"
   ]
  },
  {
   "cell_type": "code",
   "execution_count": 99,
   "metadata": {},
   "outputs": [
    {
     "data": {
      "text/html": [
       "<div>\n",
       "<style scoped>\n",
       "    .dataframe tbody tr th:only-of-type {\n",
       "        vertical-align: middle;\n",
       "    }\n",
       "\n",
       "    .dataframe tbody tr th {\n",
       "        vertical-align: top;\n",
       "    }\n",
       "\n",
       "    .dataframe thead tr th {\n",
       "        text-align: left;\n",
       "    }\n",
       "</style>\n",
       "<table border=\"1\" class=\"dataframe\">\n",
       "  <thead>\n",
       "    <tr>\n",
       "      <th></th>\n",
       "      <th colspan=\"2\" halign=\"left\">WinSize-30s</th>\n",
       "      <th colspan=\"2\" halign=\"left\">WinSize-60s</th>\n",
       "      <th colspan=\"2\" halign=\"left\">WinSize-90s</th>\n",
       "      <th colspan=\"2\" halign=\"left\">WinSize-120s</th>\n",
       "    </tr>\n",
       "    <tr>\n",
       "      <th></th>\n",
       "      <th>later_rate</th>\n",
       "      <th>avg_win_wait</th>\n",
       "      <th>later_rate</th>\n",
       "      <th>avg_win_wait</th>\n",
       "      <th>later_rate</th>\n",
       "      <th>avg_win_wait</th>\n",
       "      <th>later_rate</th>\n",
       "      <th>avg_win_wait</th>\n",
       "    </tr>\n",
       "  </thead>\n",
       "  <tbody>\n",
       "    <tr>\n",
       "      <th>0ms</th>\n",
       "      <td>0.480708</td>\n",
       "      <td>1308.152318</td>\n",
       "      <td>0.480708</td>\n",
       "      <td>1244.935532</td>\n",
       "      <td>0.480708</td>\n",
       "      <td>1227.733037</td>\n",
       "      <td>0.480708</td>\n",
       "      <td>1175.578561</td>\n",
       "    </tr>\n",
       "    <tr>\n",
       "      <th>500ms</th>\n",
       "      <td>0.373897</td>\n",
       "      <td>1799.272302</td>\n",
       "      <td>0.373897</td>\n",
       "      <td>1775.500000</td>\n",
       "      <td>0.373897</td>\n",
       "      <td>1738.324805</td>\n",
       "      <td>0.373897</td>\n",
       "      <td>1773.080764</td>\n",
       "    </tr>\n",
       "    <tr>\n",
       "      <th>1000ms</th>\n",
       "      <td>0.286769</td>\n",
       "      <td>2263.808726</td>\n",
       "      <td>0.286769</td>\n",
       "      <td>2236.641679</td>\n",
       "      <td>0.286769</td>\n",
       "      <td>2186.463849</td>\n",
       "      <td>0.286769</td>\n",
       "      <td>2243.541850</td>\n",
       "    </tr>\n",
       "    <tr>\n",
       "      <th>1500ms</th>\n",
       "      <td>0.222758</td>\n",
       "      <td>2777.338527</td>\n",
       "      <td>0.222758</td>\n",
       "      <td>2750.259370</td>\n",
       "      <td>0.222758</td>\n",
       "      <td>2713.566185</td>\n",
       "      <td>0.222758</td>\n",
       "      <td>2764.917768</td>\n",
       "    </tr>\n",
       "    <tr>\n",
       "      <th>2000ms</th>\n",
       "      <td>0.177758</td>\n",
       "      <td>3318.169459</td>\n",
       "      <td>0.177758</td>\n",
       "      <td>3282.474513</td>\n",
       "      <td>0.177758</td>\n",
       "      <td>3245.154616</td>\n",
       "      <td>0.177758</td>\n",
       "      <td>3306.797357</td>\n",
       "    </tr>\n",
       "    <tr>\n",
       "      <th>adwater</th>\n",
       "      <td>0.273656</td>\n",
       "      <td>2180.935221</td>\n",
       "      <td>0.280170</td>\n",
       "      <td>2150.630435</td>\n",
       "      <td>0.280507</td>\n",
       "      <td>2143.724138</td>\n",
       "      <td>0.278447</td>\n",
       "      <td>2082.860499</td>\n",
       "    </tr>\n",
       "  </tbody>\n",
       "</table>\n",
       "</div>"
      ],
      "text/plain": [
       "        WinSize-30s              WinSize-60s              WinSize-90s  \\\n",
       "         later_rate avg_win_wait  later_rate avg_win_wait  later_rate   \n",
       "0ms        0.480708  1308.152318    0.480708  1244.935532    0.480708   \n",
       "500ms      0.373897  1799.272302    0.373897  1775.500000    0.373897   \n",
       "1000ms     0.286769  2263.808726    0.286769  2236.641679    0.286769   \n",
       "1500ms     0.222758  2777.338527    0.222758  2750.259370    0.222758   \n",
       "2000ms     0.177758  3318.169459    0.177758  3282.474513    0.177758   \n",
       "adwater    0.273656  2180.935221    0.280170  2150.630435    0.280507   \n",
       "\n",
       "                     WinSize-120s               \n",
       "        avg_win_wait   later_rate avg_win_wait  \n",
       "0ms      1227.733037     0.480708  1175.578561  \n",
       "500ms    1738.324805     0.373897  1773.080764  \n",
       "1000ms   2186.463849     0.286769  2243.541850  \n",
       "1500ms   2713.566185     0.222758  2764.917768  \n",
       "2000ms   3245.154616     0.177758  3306.797357  \n",
       "adwater  2143.724138     0.278447  2082.860499  "
      ]
     },
     "execution_count": 99,
     "metadata": {},
     "output_type": "execute_result"
    }
   ],
   "source": [
    "com"
   ]
  },
  {
   "cell_type": "markdown",
   "metadata": {},
   "source": [
    "## 画图"
   ]
  },
  {
   "cell_type": "code",
   "execution_count": null,
   "metadata": {},
   "outputs": [],
   "source": []
  }
 ],
 "metadata": {
  "kernelspec": {
   "display_name": "Python 3",
   "language": "python",
   "name": "python3"
  },
  "language_info": {
   "codemirror_mode": {
    "name": "ipython",
    "version": 3
   },
   "file_extension": ".py",
   "mimetype": "text/x-python",
   "name": "python",
   "nbconvert_exporter": "python",
   "pygments_lexer": "ipython3",
   "version": "3.7.4"
  }
 },
 "nbformat": 4,
 "nbformat_minor": 4
}
